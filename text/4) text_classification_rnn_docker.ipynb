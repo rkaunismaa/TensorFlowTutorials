{
 "cells": [
  {
   "cell_type": "markdown",
   "metadata": {},
   "source": [
    "Downloaded from ...\n",
    "\n",
    "https://www.tensorflow.org/text/tutorials/text_classification_rnn\n",
    "\n",
    "on ...\n",
    "\n",
    "Thursday, January 12, 2023\n",
    "\n",
    "KAUWITB\n",
    "\n",
    "conda activate tf211"
   ]
  },
  {
   "cell_type": "code",
   "execution_count": 1,
   "metadata": {},
   "outputs": [],
   "source": [
    "# docker run --gpus all -it -v $(realpath ~/):/tf/All -v /home/rob/Data2:/home/rob/Data2 --env HF_DATASETS_CACHE=/home/rob/Data2/huggingface/datasets --env TRANSFORMERS_CACHE=/home/rob/Data2/huggingface/transformers -p 8888:8888 -p 6006:6006 tf211:20221217\n",
    "\n",
    "# This all runs. Nice!\n",
    "# Run Date: Friday, January 13, 2023\n",
    "# Run Time: 00:10:06\n",
    "\n",
    "import time\n",
    "from datetime import date\n",
    "\n",
    "startTime = time.time()\n",
    "todaysDate = date.today()"
   ]
  },
  {
   "cell_type": "markdown",
   "metadata": {
    "id": "hX4n9TsbGw-f"
   },
   "source": [
    "##### Copyright 2018 The TensorFlow Authors."
   ]
  },
  {
   "cell_type": "code",
   "execution_count": 2,
   "metadata": {
    "cellView": "form",
    "id": "0nbI5DtDGw-i"
   },
   "outputs": [],
   "source": [
    "#@title Licensed under the Apache License, Version 2.0 (the \"License\");\n",
    "# you may not use this file except in compliance with the License.\n",
    "# You may obtain a copy of the License at\n",
    "#\n",
    "# https://www.apache.org/licenses/LICENSE-2.0\n",
    "#\n",
    "# Unless required by applicable law or agreed to in writing, software\n",
    "# distributed under the License is distributed on an \"AS IS\" BASIS,\n",
    "# WITHOUT WARRANTIES OR CONDITIONS OF ANY KIND, either express or implied.\n",
    "# See the License for the specific language governing permissions and\n",
    "# limitations under the License."
   ]
  },
  {
   "cell_type": "markdown",
   "metadata": {
    "id": "9TnJztDZGw-n"
   },
   "source": [
    "# Text classification with an RNN"
   ]
  },
  {
   "cell_type": "markdown",
   "metadata": {
    "id": "AfN3bMR5Gw-o"
   },
   "source": [
    "<table class=\"tfo-notebook-buttons\" align=\"left\">\n",
    "  <td>\n",
    "    <a target=\"_blank\" href=\"https://www.tensorflow.org/text/tutorials/text_classification_rnn\"><img src=\"https://www.tensorflow.org/images/tf_logo_32px.png\" />View on TensorFlow.org</a>\n",
    "  </td>\n",
    "  <td>\n",
    "    <a target=\"_blank\" href=\"https://colab.research.google.com/github/tensorflow/text/blob/master/docs/tutorials/text_classification_rnn.ipynb\"><img src=\"https://www.tensorflow.org/images/colab_logo_32px.png\" />Run in Google Colab</a>\n",
    "  </td>\n",
    "  <td>\n",
    "    <a target=\"_blank\" href=\"https://github.com/tensorflow/text/blob/master/docs/tutorials/text_classification_rnn.ipynb\"><img src=\"https://www.tensorflow.org/images/GitHub-Mark-32px.png\" />View source on GitHub</a>\n",
    "  </td>\n",
    "  <td>\n",
    "    <a href=\"https://storage.googleapis.com/tensorflow_docs/text/docs/tutorials/text_classification_rnn.ipynb\"><img src=\"https://www.tensorflow.org/images/download_logo_32px.png\" />Download notebook</a>\n",
    "  </td>\n",
    "</table>"
   ]
  },
  {
   "cell_type": "markdown",
   "metadata": {
    "id": "lUWearf0Gw-p"
   },
   "source": [
    "This text classification tutorial trains a [recurrent neural network](https://developers.google.com/machine-learning/glossary/#recurrent_neural_network) on the [IMDB large movie review dataset](http://ai.stanford.edu/~amaas/data/sentiment/) for sentiment analysis."
   ]
  },
  {
   "cell_type": "markdown",
   "metadata": {
    "id": "_2VQo4bajwUU"
   },
   "source": [
    "## Setup"
   ]
  },
  {
   "cell_type": "code",
   "execution_count": 3,
   "metadata": {},
   "outputs": [
    {
     "name": "stdout",
     "output_type": "stream",
     "text": [
      "Requirement already satisfied: ipywidgets in /usr/local/lib/python3.8/dist-packages (8.0.4)\n",
      "Requirement already satisfied: jupyterlab-widgets~=3.0 in /usr/local/lib/python3.8/dist-packages (from ipywidgets) (3.0.5)\n",
      "Requirement already satisfied: traitlets>=4.3.1 in /usr/local/lib/python3.8/dist-packages (from ipywidgets) (5.7.1)\n",
      "Requirement already satisfied: ipykernel>=4.5.1 in /usr/local/lib/python3.8/dist-packages (from ipywidgets) (6.19.2)\n",
      "Requirement already satisfied: ipython>=6.1.0 in /usr/local/lib/python3.8/dist-packages (from ipywidgets) (8.7.0)\n",
      "Requirement already satisfied: widgetsnbextension~=4.0 in /usr/local/lib/python3.8/dist-packages (from ipywidgets) (4.0.5)\n",
      "Requirement already satisfied: jupyter-client>=6.1.12 in /usr/local/lib/python3.8/dist-packages (from ipykernel>=4.5.1->ipywidgets) (7.4.8)\n",
      "Requirement already satisfied: psutil in /usr/local/lib/python3.8/dist-packages (from ipykernel>=4.5.1->ipywidgets) (5.9.4)\n",
      "Requirement already satisfied: comm>=0.1.1 in /usr/local/lib/python3.8/dist-packages (from ipykernel>=4.5.1->ipywidgets) (0.1.2)\n",
      "Requirement already satisfied: tornado>=6.1 in /usr/local/lib/python3.8/dist-packages (from ipykernel>=4.5.1->ipywidgets) (6.2)\n",
      "Requirement already satisfied: debugpy>=1.0 in /usr/local/lib/python3.8/dist-packages (from ipykernel>=4.5.1->ipywidgets) (1.6.4)\n",
      "Requirement already satisfied: nest-asyncio in /usr/local/lib/python3.8/dist-packages (from ipykernel>=4.5.1->ipywidgets) (1.5.6)\n",
      "Requirement already satisfied: matplotlib-inline>=0.1 in /usr/local/lib/python3.8/dist-packages (from ipykernel>=4.5.1->ipywidgets) (0.1.6)\n",
      "Requirement already satisfied: packaging in /usr/local/lib/python3.8/dist-packages (from ipykernel>=4.5.1->ipywidgets) (21.3)\n",
      "Requirement already satisfied: pyzmq>=17 in /usr/local/lib/python3.8/dist-packages (from ipykernel>=4.5.1->ipywidgets) (24.0.1)\n",
      "Requirement already satisfied: pexpect>4.3; sys_platform != \"win32\" in /usr/local/lib/python3.8/dist-packages (from ipython>=6.1.0->ipywidgets) (4.8.0)\n",
      "Requirement already satisfied: decorator in /usr/local/lib/python3.8/dist-packages (from ipython>=6.1.0->ipywidgets) (5.1.1)\n",
      "Requirement already satisfied: prompt-toolkit<3.1.0,>=3.0.11 in /usr/local/lib/python3.8/dist-packages (from ipython>=6.1.0->ipywidgets) (3.0.36)\n",
      "Requirement already satisfied: backcall in /usr/local/lib/python3.8/dist-packages (from ipython>=6.1.0->ipywidgets) (0.2.0)\n",
      "Requirement already satisfied: pygments>=2.4.0 in /usr/local/lib/python3.8/dist-packages (from ipython>=6.1.0->ipywidgets) (2.13.0)\n",
      "Requirement already satisfied: jedi>=0.16 in /usr/local/lib/python3.8/dist-packages (from ipython>=6.1.0->ipywidgets) (0.18.2)\n",
      "Requirement already satisfied: stack-data in /usr/local/lib/python3.8/dist-packages (from ipython>=6.1.0->ipywidgets) (0.6.2)\n",
      "Requirement already satisfied: pickleshare in /usr/local/lib/python3.8/dist-packages (from ipython>=6.1.0->ipywidgets) (0.7.5)\n",
      "Requirement already satisfied: python-dateutil>=2.8.2 in /usr/local/lib/python3.8/dist-packages (from jupyter-client>=6.1.12->ipykernel>=4.5.1->ipywidgets) (2.8.2)\n",
      "Requirement already satisfied: entrypoints in /usr/local/lib/python3.8/dist-packages (from jupyter-client>=6.1.12->ipykernel>=4.5.1->ipywidgets) (0.4)\n",
      "Requirement already satisfied: jupyter-core>=4.9.2 in /usr/local/lib/python3.8/dist-packages (from jupyter-client>=6.1.12->ipykernel>=4.5.1->ipywidgets) (5.1.0)\n",
      "Requirement already satisfied: pyparsing!=3.0.5,>=2.0.2 in /usr/local/lib/python3.8/dist-packages (from packaging->ipykernel>=4.5.1->ipywidgets) (3.0.9)\n",
      "Requirement already satisfied: ptyprocess>=0.5 in /usr/local/lib/python3.8/dist-packages (from pexpect>4.3; sys_platform != \"win32\"->ipython>=6.1.0->ipywidgets) (0.7.0)\n",
      "Requirement already satisfied: wcwidth in /usr/local/lib/python3.8/dist-packages (from prompt-toolkit<3.1.0,>=3.0.11->ipython>=6.1.0->ipywidgets) (0.2.5)\n",
      "Requirement already satisfied: parso<0.9.0,>=0.8.0 in /usr/local/lib/python3.8/dist-packages (from jedi>=0.16->ipython>=6.1.0->ipywidgets) (0.8.3)\n",
      "Requirement already satisfied: asttokens>=2.1.0 in /usr/local/lib/python3.8/dist-packages (from stack-data->ipython>=6.1.0->ipywidgets) (2.2.1)\n",
      "Requirement already satisfied: executing>=1.2.0 in /usr/local/lib/python3.8/dist-packages (from stack-data->ipython>=6.1.0->ipywidgets) (1.2.0)\n",
      "Requirement already satisfied: pure-eval in /usr/local/lib/python3.8/dist-packages (from stack-data->ipython>=6.1.0->ipywidgets) (0.2.2)\n",
      "Requirement already satisfied: six>=1.5 in /usr/lib/python3/dist-packages (from python-dateutil>=2.8.2->jupyter-client>=6.1.12->ipykernel>=4.5.1->ipywidgets) (1.14.0)\n",
      "Requirement already satisfied: platformdirs>=2.5 in /usr/local/lib/python3.8/dist-packages (from jupyter-core>=4.9.2->jupyter-client>=6.1.12->ipykernel>=4.5.1->ipywidgets) (2.6.0)\n",
      "\u001b[33mWARNING: You are using pip version 20.2.4; however, version 22.3.1 is available.\n",
      "You should consider upgrading via the '/usr/bin/python3 -m pip install --upgrade pip' command.\u001b[0m\n"
     ]
    }
   ],
   "source": [
    "!pip install ipywidgets"
   ]
  },
  {
   "cell_type": "code",
   "execution_count": 4,
   "metadata": {
    "id": "z682XYsrjkY9",
    "tags": []
   },
   "outputs": [
    {
     "name": "stderr",
     "output_type": "stream",
     "text": [
      "2023-01-13 13:08:14.702665: I tensorflow/core/platform/cpu_feature_guard.cc:193] This TensorFlow binary is optimized with oneAPI Deep Neural Network Library (oneDNN) to use the following CPU instructions in performance-critical operations:  AVX2 FMA\n",
      "To enable them in other operations, rebuild TensorFlow with the appropriate compiler flags.\n"
     ]
    }
   ],
   "source": [
    "import numpy as np\n",
    "\n",
    "import tensorflow_datasets as tfds\n",
    "import tensorflow as tf\n",
    "\n",
    "\n",
    "# gpus = tf.config.list_physical_devices('GPU')\n",
    "# if gpus:\n",
    "#     # Restrict TensorFlow to only use the first GPU\n",
    "#     try:\n",
    "#         tf.config.set_visible_devices(gpus[0], 'GPU')\n",
    "#         logical_gpus = tf.config.list_logical_devices('GPU')\n",
    "#         print(len(gpus), \"Physical GPUs,\", len(logical_gpus), \"Logical GPU\")\n",
    "#     except RuntimeError as e:\n",
    "#         # Visible devices must be set before GPUs have been initialized\n",
    "#         print(e)\n",
    "\n",
    "tfds.disable_progress_bar()"
   ]
  },
  {
   "cell_type": "markdown",
   "metadata": {
    "id": "1rXHa-w9JZhb"
   },
   "source": [
    "Import `matplotlib` and create a helper function to plot graphs:"
   ]
  },
  {
   "cell_type": "code",
   "execution_count": 5,
   "metadata": {
    "id": "Mp1Z7P9pYRSK",
    "tags": []
   },
   "outputs": [],
   "source": [
    "import matplotlib.pyplot as plt\n",
    "\n",
    "\n",
    "def plot_graphs(history, metric):\n",
    "    plt.plot(history.history[metric])\n",
    "    plt.plot(history.history['val_'+metric], '')\n",
    "    plt.xlabel(\"Epochs\")\n",
    "    plt.ylabel(metric)\n",
    "    plt.legend([metric, 'val_'+metric])"
   ]
  },
  {
   "cell_type": "markdown",
   "metadata": {
    "id": "pRmMubr0jrE2"
   },
   "source": [
    "## Setup input pipeline\n",
    "\n",
    "\n",
    "The IMDB large movie review dataset is a *binary classification* dataset—all the reviews have either a *positive* or *negative* sentiment.\n",
    "\n",
    "Download the dataset using [TFDS](https://www.tensorflow.org/datasets). See the [loading text tutorial](https://www.tensorflow.org/tutorials/load_data/text) for details on how to load this sort of data manually.\n"
   ]
  },
  {
   "cell_type": "code",
   "execution_count": 6,
   "metadata": {},
   "outputs": [],
   "source": [
    "# dataDirectory. Notice it is outside this repo.\n",
    "dataDir = '/home/rob/Data/Documents/Github/rkaunismaa/data/'"
   ]
  },
  {
   "cell_type": "code",
   "execution_count": 7,
   "metadata": {
    "id": "SHRwRoP2nVHX",
    "tags": []
   },
   "outputs": [
    {
     "name": "stderr",
     "output_type": "stream",
     "text": [
      "2023-01-13 13:08:16.344696: I tensorflow/compiler/xla/stream_executor/cuda/cuda_gpu_executor.cc:981] successful NUMA node read from SysFS had negative value (-1), but there must be at least one NUMA node, so returning NUMA node zero\n",
      "2023-01-13 13:08:16.344864: I tensorflow/compiler/xla/stream_executor/cuda/cuda_gpu_executor.cc:981] successful NUMA node read from SysFS had negative value (-1), but there must be at least one NUMA node, so returning NUMA node zero\n",
      "2023-01-13 13:08:16.347005: I tensorflow/compiler/xla/stream_executor/cuda/cuda_gpu_executor.cc:981] successful NUMA node read from SysFS had negative value (-1), but there must be at least one NUMA node, so returning NUMA node zero\n",
      "2023-01-13 13:08:16.347176: I tensorflow/compiler/xla/stream_executor/cuda/cuda_gpu_executor.cc:981] successful NUMA node read from SysFS had negative value (-1), but there must be at least one NUMA node, so returning NUMA node zero\n",
      "2023-01-13 13:08:16.347304: I tensorflow/compiler/xla/stream_executor/cuda/cuda_gpu_executor.cc:981] successful NUMA node read from SysFS had negative value (-1), but there must be at least one NUMA node, so returning NUMA node zero\n",
      "2023-01-13 13:08:16.347456: I tensorflow/compiler/xla/stream_executor/cuda/cuda_gpu_executor.cc:981] successful NUMA node read from SysFS had negative value (-1), but there must be at least one NUMA node, so returning NUMA node zero\n",
      "2023-01-13 13:08:16.347562: I tensorflow/core/common_runtime/gpu/gpu_device.cc:2006] Ignoring visible gpu device (device: 1, name: NVIDIA GeForce GTX 1050, pci bus id: 0000:01:00.0, compute capability: 6.1) with core count: 5. The minimum required count is 8. You can adjust this requirement with the env var TF_MIN_GPU_MULTIPROCESSOR_COUNT.\n",
      "2023-01-13 13:08:16.347879: I tensorflow/core/platform/cpu_feature_guard.cc:193] This TensorFlow binary is optimized with oneAPI Deep Neural Network Library (oneDNN) to use the following CPU instructions in performance-critical operations:  AVX2 FMA\n",
      "To enable them in other operations, rebuild TensorFlow with the appropriate compiler flags.\n",
      "2023-01-13 13:08:16.348251: I tensorflow/compiler/xla/stream_executor/cuda/cuda_gpu_executor.cc:981] successful NUMA node read from SysFS had negative value (-1), but there must be at least one NUMA node, so returning NUMA node zero\n",
      "2023-01-13 13:08:16.348582: I tensorflow/compiler/xla/stream_executor/cuda/cuda_gpu_executor.cc:981] successful NUMA node read from SysFS had negative value (-1), but there must be at least one NUMA node, so returning NUMA node zero\n",
      "2023-01-13 13:08:16.348737: I tensorflow/compiler/xla/stream_executor/cuda/cuda_gpu_executor.cc:981] successful NUMA node read from SysFS had negative value (-1), but there must be at least one NUMA node, so returning NUMA node zero\n",
      "2023-01-13 13:08:16.772024: I tensorflow/compiler/xla/stream_executor/cuda/cuda_gpu_executor.cc:981] successful NUMA node read from SysFS had negative value (-1), but there must be at least one NUMA node, so returning NUMA node zero\n",
      "2023-01-13 13:08:16.772188: I tensorflow/compiler/xla/stream_executor/cuda/cuda_gpu_executor.cc:981] successful NUMA node read from SysFS had negative value (-1), but there must be at least one NUMA node, so returning NUMA node zero\n",
      "2023-01-13 13:08:16.772312: I tensorflow/compiler/xla/stream_executor/cuda/cuda_gpu_executor.cc:981] successful NUMA node read from SysFS had negative value (-1), but there must be at least one NUMA node, so returning NUMA node zero\n",
      "2023-01-13 13:08:16.772432: I tensorflow/core/common_runtime/gpu/gpu_device.cc:1613] Created device /job:localhost/replica:0/task:0/device:GPU:0 with 6647 MB memory:  -> device: 0, name: NVIDIA GeForce RTX 2070 SUPER, pci bus id: 0000:02:00.0, compute capability: 7.5\n"
     ]
    }
   ],
   "source": [
    "# dataset, info = tfds.load('imdb_reviews', with_info=True,\n",
    "#                           as_supervised=True)\n",
    "\n",
    "dataset, info = tfds.load('imdb_reviews', data_dir=dataDir,  with_info=True,\n",
    "                          as_supervised=True)\n",
    "\n",
    "# train_dataset, test_dataset = dataset['train'], dataset['test']\n",
    "\n",
    "# train_dataset.element_spec"
   ]
  },
  {
   "cell_type": "code",
   "execution_count": 8,
   "metadata": {},
   "outputs": [],
   "source": [
    "train_dataset, test_dataset = dataset['train'], dataset['test']"
   ]
  },
  {
   "cell_type": "code",
   "execution_count": 9,
   "metadata": {},
   "outputs": [
    {
     "data": {
      "text/plain": [
       "(TensorSpec(shape=(), dtype=tf.string, name=None),\n",
       " TensorSpec(shape=(), dtype=tf.int64, name=None))"
      ]
     },
     "execution_count": 9,
     "metadata": {},
     "output_type": "execute_result"
    }
   ],
   "source": [
    "train_dataset.element_spec"
   ]
  },
  {
   "cell_type": "markdown",
   "metadata": {
    "id": "nWA4c2ir7g6p"
   },
   "source": [
    "Initially this returns a dataset of (text, label pairs):"
   ]
  },
  {
   "cell_type": "code",
   "execution_count": 10,
   "metadata": {
    "id": "vd4_BGKyurao",
    "tags": []
   },
   "outputs": [
    {
     "name": "stdout",
     "output_type": "stream",
     "text": [
      "text:  b\"This was an absolutely terrible movie. Don't be lured in by Christopher Walken or Michael Ironside. Both are great actors, but this must simply be their worst role in history. Even their great acting could not redeem this movie's ridiculous storyline. This movie is an early nineties US propaganda piece. The most pathetic scenes were those when the Columbian rebels were making their cases for revolutions. Maria Conchita Alonso appeared phony, and her pseudo-love affair with Walken was nothing but a pathetic emotional plug in a movie that was devoid of any real meaning. I am disappointed that there are movies like this, ruining actor's like Christopher Walken's good name. I could barely sit through it.\"\n",
      "label:  0\n"
     ]
    },
    {
     "name": "stderr",
     "output_type": "stream",
     "text": [
      "2023-01-13 13:08:16.981173: W tensorflow/core/kernels/data/cache_dataset_ops.cc:856] The calling iterator did not fully read the dataset being cached. In order to avoid unexpected truncation of the dataset, the partially cached contents of the dataset  will be discarded. This can happen if you have an input pipeline similar to `dataset.cache().take(k).repeat()`. You should use `dataset.take(k).cache().repeat()` instead.\n"
     ]
    }
   ],
   "source": [
    "for example, label in train_dataset.take(1):\n",
    "    print('text: ', example.numpy())\n",
    "    print('label: ', label.numpy())"
   ]
  },
  {
   "cell_type": "markdown",
   "metadata": {
    "id": "z2qVJzcEluH_"
   },
   "source": [
    "Next shuffle the data for training and create batches of these `(text, label)` pairs:"
   ]
  },
  {
   "cell_type": "code",
   "execution_count": 11,
   "metadata": {
    "id": "dDsCaZCDYZgm",
    "tags": []
   },
   "outputs": [],
   "source": [
    "BUFFER_SIZE = 10000\n",
    "BATCH_SIZE = 64"
   ]
  },
  {
   "cell_type": "code",
   "execution_count": 12,
   "metadata": {
    "id": "VznrltNOnUc5",
    "tags": []
   },
   "outputs": [],
   "source": [
    "train_dataset = train_dataset.shuffle(BUFFER_SIZE).batch(BATCH_SIZE).prefetch(tf.data.AUTOTUNE)\n",
    "test_dataset = test_dataset.batch(BATCH_SIZE).prefetch(tf.data.AUTOTUNE)"
   ]
  },
  {
   "cell_type": "code",
   "execution_count": 13,
   "metadata": {
    "id": "jqkvdcFv41wC",
    "tags": []
   },
   "outputs": [
    {
     "name": "stdout",
     "output_type": "stream",
     "text": [
      "texts:  [b'The documentary revolves around Eva Mozes Kor, a holocaust survivor, part of Mengele\\'s experiments on twins, consisting primarily her version of what happened at Auschwitz, and a comparison of the emotions of the other survivors of the twin experiments. The movie obviously had great reviews. It\\'s one of those topics that no one dares to voice a contrary opinion about.<br /><br />I too, for a large part of the movie, got sucked into the emotion that the movie-maker so obviously wanted the viewer to concentrate on. One of the user reviews on IMDb by Eric Monder (obviously having nothing critical to say about the issue on a public forum) could only find the sweetest nectar. \"In one of the many dramatic sequences, as a group of Jews argue with Kor at a Jewish center, the meaning of the word \"forgive\" is even debated, but the isolated and outnumbered Kor holds her own\" But by this time, the sappy hold that the movie had on my dormant emotional repertoire had let loose enough that I could see clearly once more. After the \"strong-willed\" Eva Kor forgives her \"Nazi captors\" the movie begins to delve into what forgiving is all about, at least from the viewpoint of Kor. The movie goes about following her, past her public statement forgiving the Nazis and into new territory. To me, this was the meat of the movie, surrounded by inedible fat of her \"act of forgiveness\". Obviously, it was a very sick cow.<br /><br />On a mission to test her theory of forgiveness, in order to heal wounds of the past, she makes her way to the \"promised land\" to meet with some Arabs, to discuss with them the issues that they face and to see if dialogue cannot lead to a better understanding of the situation and heavily interspersed with debates and discussions with Jews in the US on her act of forgiving the Nazis, including one at a Jewish center in Chicago. From then on, anyone not so teary eyed that they can\\'t see the screen will find it hard-pressed to miss the obvious contradiction in her statements.<br /><br />Firstly, you immediately notice her body language, defensive and unwilling to listen in a room full of Arab scholars and teachers. Her comments about how she feared that they might kidnap her shows how much of a waste of time, effort and money the entire act was. A rather annoyed Dr Sami Advan (Professor of education at Bethlehem University) gets it just right when he tells Kor off for a statement she makes about how she would rather be asleep in her apartment.<br /><br />Finally, the debate at the Jewish center in Chicago, where she is \"grilled\" on the meaning of forgiveness and her right to do so, in the wake of those that continue suffering through the trauma of the acts.<br /><br />I will cut to the chase. By the end of the movie, I was hoping I hadn\\'t chosen to watch the movie. The movie was badly made, failing to delve deeper into anything about Auschwitz apart from the purely trivial, just sufficient to make sure the holocaust is refreshed in the viewers memory and to incite a barrage of tears. It showed that Kor, the subject of the documentary was unable to engage in fair discussion. Her discussion abilities were limited to parroting her stance on forgiveness (at best) to a complete unwillingness to listen or participate.<br /><br />Lastly, is everyone so retarded today that they can\\'t notice the difference between making peace and forgiving? Quoting another IMDb user, \"I don\\'t see her forgiveness as being weak- quite the contrary, she just wanted to relieve its hold from her soul, she wanted the suffering to be over, so she let it go.\" That would be the perfect layman\\'s definition of MAKING PEACE.<br /><br />I guess, in a world of propaganda, blind faith and political correctness, there is no room to question those that have \"gone through more than the human mind can fathom\".<br /><br />P.S. The dictionary certainly should go into all those Books-to-buy lists everyone keeps making.'\n",
      " b\"Why such a generic title? Santa Claus??? So bland and unpredictable. Movies before that tried to cash in on the holiday spirit, most notably 'Santa Claus Conquers the Martians', at least was entertaining to watch because of the campiness to it, and all the stock footage being used... for some reason, that seemed happy to me. But this movie just screws Christmas in the butt, and screws the joy of all the kids. Santa lives in space? His enemy is a devil named Pitch? Santa gets help from Merlin the Magician? How random is this!? Well, since it was made in Mexico then some of you might understand the way of how the film was made. I had to admit some of the effects were just wacky for the time. It was a all-out cluster of madness! Though, despite all the troubles with the movie, it still feels like a Christmas movie. Good conquers evil, and Christmas still plays a part of our hearts of every good girl or boy in the world, or possibly universe, thanks to Santa Claus Conquers the Martians.. apparently. So, I think you should give it a try, even if it is one of the worst holiday movies of all time... though it should put a smile on your face any day.\"\n",
      " b'Yes, people are racist. People are even racist in college. That\\'s a good point, and the issue of racism has been dealt with many times before in countless films. What sets Higher Learning apart from the pack is that it deals with the issue of racism in the most ham-fisted and predictable way possible, oh yeah it\\'s in college too.<br /><br />This film deals with this problem of racism the way Frankenstein deals with most problems, it bashes you over the head repeatedly in a brutal and sluggish manner. Most of the characters are cartoonish, one-dimensional, caricatures (lesbian feminist, angry black man), that react to situations as dramatically and predictably as possible. Instead of defying stereotypes this film is overpopulated with them. The angry black men feel cheated, feminists hate men, etc. (one feminist even holds a sign that reads \"Dead Men Don\\'t Rape.\" See what I mean?) I don\\'t want to give anything away, but in this movie if someone seems like a shifty loner or a date rapist they\\'ll probably behave exactly how you expect them to. The changes the characters go through seems obvious to everyone but the people in the movie. The big twist in the plot hinges on whether or not the violent neo-Nazis will act like violent neo-Nazis. I\\'ll guess you\\'ll just have to watch to find out what happens.<br /><br />Another problem I have with this movie is that it\\'s supposed to be \"gritty\" and \"hard-hitting,\" but they make Nazis the bad guys. I agree Nazis are evil, but that\\'s my point. Everybody thinks Nazis are bad; we\\'re not breaking any new ground here. Nazis have been portrayed as villains since the 1930\\'s. The film doesn\\'t challenge any viewpoints or make bold statements. It just deals with issues we all know about in a clumsy, after-school-special like, manner. Being anti-rape, anti-racist, and anti-Nazi isn\\'t exactly taking a hard stance on a controversial issue.<br /><br />Higher Learning is predictable, cartoonish, and in a word stupid. Avoid at all costs.']\n",
      "\n",
      "labels:  [0 0 0]\n"
     ]
    },
    {
     "name": "stderr",
     "output_type": "stream",
     "text": [
      "2023-01-13 13:08:17.146619: W tensorflow/core/kernels/data/cache_dataset_ops.cc:856] The calling iterator did not fully read the dataset being cached. In order to avoid unexpected truncation of the dataset, the partially cached contents of the dataset  will be discarded. This can happen if you have an input pipeline similar to `dataset.cache().take(k).repeat()`. You should use `dataset.take(k).cache().repeat()` instead.\n"
     ]
    }
   ],
   "source": [
    "for example, label in train_dataset.take(1):\n",
    "    print('texts: ', example.numpy()[:3])\n",
    "    print()\n",
    "    print('labels: ', label.numpy()[:3])"
   ]
  },
  {
   "cell_type": "markdown",
   "metadata": {
    "id": "s5eWCo88voPY"
   },
   "source": [
    "## Create the text encoder"
   ]
  },
  {
   "cell_type": "markdown",
   "metadata": {
    "id": "TFevcItw15P_"
   },
   "source": [
    "The raw text loaded by `tfds` needs to be processed before it can be used in a model. The simplest way to process text for training is using the `TextVectorization` layer. This layer has many capabilities, but this tutorial sticks to the default behavior.\n",
    "\n",
    "Create the layer, and pass the dataset's text to the layer's `.adapt` method:"
   ]
  },
  {
   "cell_type": "code",
   "execution_count": 14,
   "metadata": {
    "id": "uC25Lu1Yvuqy",
    "tags": []
   },
   "outputs": [
    {
     "name": "stdout",
     "output_type": "stream",
     "text": [
      "WARNING:tensorflow:From /usr/local/lib/python3.8/dist-packages/tensorflow/python/autograph/pyct/static_analysis/liveness.py:83: Analyzer.lamba_check (from tensorflow.python.autograph.pyct.static_analysis.liveness) is deprecated and will be removed after 2023-09-23.\n",
      "Instructions for updating:\n",
      "Lambda fuctions will be no more assumed to be used in the statement where they are used, or at least in the same block. https://github.com/tensorflow/tensorflow/issues/56089\n"
     ]
    },
    {
     "name": "stderr",
     "output_type": "stream",
     "text": [
      "WARNING:tensorflow:From /usr/local/lib/python3.8/dist-packages/tensorflow/python/autograph/pyct/static_analysis/liveness.py:83: Analyzer.lamba_check (from tensorflow.python.autograph.pyct.static_analysis.liveness) is deprecated and will be removed after 2023-09-23.\n",
      "Instructions for updating:\n",
      "Lambda fuctions will be no more assumed to be used in the statement where they are used, or at least in the same block. https://github.com/tensorflow/tensorflow/issues/56089\n"
     ]
    }
   ],
   "source": [
    "VOCAB_SIZE = 1000\n",
    "\n",
    "encoder = tf.keras.layers.TextVectorization(\n",
    "    max_tokens=VOCAB_SIZE)\n",
    "\n",
    "encoder.adapt(train_dataset.map(lambda text, label: text))"
   ]
  },
  {
   "cell_type": "markdown",
   "metadata": {
    "id": "IuQzVBbe3Ldu"
   },
   "source": [
    "The `.adapt` method sets the layer's vocabulary. Here are the first 20 tokens. After the padding and unknown tokens they're sorted by frequency: "
   ]
  },
  {
   "cell_type": "code",
   "execution_count": 15,
   "metadata": {
    "id": "tBoyjjWg0Ac9",
    "tags": []
   },
   "outputs": [
    {
     "data": {
      "text/plain": [
       "array(['', '[UNK]', 'the', 'and', 'a', 'of', 'to', 'is', 'in', 'it', 'i',\n",
       "       'this', 'that', 'br', 'was', 'as', 'for', 'with', 'movie', 'but'],\n",
       "      dtype='<U14')"
      ]
     },
     "execution_count": 15,
     "metadata": {},
     "output_type": "execute_result"
    }
   ],
   "source": [
    "vocab = np.array(encoder.get_vocabulary())\n",
    "vocab[:20]"
   ]
  },
  {
   "cell_type": "markdown",
   "metadata": {
    "id": "mjId5pua3jHQ"
   },
   "source": [
    "Once the vocabulary is set, the layer can encode text into indices. The tensors of indices are 0-padded to the longest sequence in the batch (unless you set a fixed `output_sequence_length`):"
   ]
  },
  {
   "cell_type": "code",
   "execution_count": 16,
   "metadata": {
    "id": "RGc7C9WiwRWs",
    "tags": []
   },
   "outputs": [
    {
     "data": {
      "text/plain": [
       "array([[  2, 671,   1, ...,   0,   0,   0],\n",
       "       [134, 136,   4, ...,   0,   0,   0],\n",
       "       [414,  83,  24, ...,   0,   0,   0]])"
      ]
     },
     "execution_count": 16,
     "metadata": {},
     "output_type": "execute_result"
    }
   ],
   "source": [
    "encoded_example = encoder(example)[:3].numpy()\n",
    "encoded_example"
   ]
  },
  {
   "cell_type": "markdown",
   "metadata": {
    "id": "F5cjz0bS39IN"
   },
   "source": [
    "With the default settings, the process is not completely reversible. There are three main reasons for that:\n",
    "\n",
    "1. The default value for `preprocessing.TextVectorization`'s `standardize` argument is `\"lower_and_strip_punctuation\"`.\n",
    "2. The limited vocabulary size and lack of character-based fallback results in some unknown tokens."
   ]
  },
  {
   "cell_type": "code",
   "execution_count": 17,
   "metadata": {
    "id": "N_tD0QY5wXaK",
    "tags": []
   },
   "outputs": [
    {
     "name": "stdout",
     "output_type": "stream",
     "text": [
      "Original:  b'The documentary revolves around Eva Mozes Kor, a holocaust survivor, part of Mengele\\'s experiments on twins, consisting primarily her version of what happened at Auschwitz, and a comparison of the emotions of the other survivors of the twin experiments. The movie obviously had great reviews. It\\'s one of those topics that no one dares to voice a contrary opinion about.<br /><br />I too, for a large part of the movie, got sucked into the emotion that the movie-maker so obviously wanted the viewer to concentrate on. One of the user reviews on IMDb by Eric Monder (obviously having nothing critical to say about the issue on a public forum) could only find the sweetest nectar. \"In one of the many dramatic sequences, as a group of Jews argue with Kor at a Jewish center, the meaning of the word \"forgive\" is even debated, but the isolated and outnumbered Kor holds her own\" But by this time, the sappy hold that the movie had on my dormant emotional repertoire had let loose enough that I could see clearly once more. After the \"strong-willed\" Eva Kor forgives her \"Nazi captors\" the movie begins to delve into what forgiving is all about, at least from the viewpoint of Kor. The movie goes about following her, past her public statement forgiving the Nazis and into new territory. To me, this was the meat of the movie, surrounded by inedible fat of her \"act of forgiveness\". Obviously, it was a very sick cow.<br /><br />On a mission to test her theory of forgiveness, in order to heal wounds of the past, she makes her way to the \"promised land\" to meet with some Arabs, to discuss with them the issues that they face and to see if dialogue cannot lead to a better understanding of the situation and heavily interspersed with debates and discussions with Jews in the US on her act of forgiving the Nazis, including one at a Jewish center in Chicago. From then on, anyone not so teary eyed that they can\\'t see the screen will find it hard-pressed to miss the obvious contradiction in her statements.<br /><br />Firstly, you immediately notice her body language, defensive and unwilling to listen in a room full of Arab scholars and teachers. Her comments about how she feared that they might kidnap her shows how much of a waste of time, effort and money the entire act was. A rather annoyed Dr Sami Advan (Professor of education at Bethlehem University) gets it just right when he tells Kor off for a statement she makes about how she would rather be asleep in her apartment.<br /><br />Finally, the debate at the Jewish center in Chicago, where she is \"grilled\" on the meaning of forgiveness and her right to do so, in the wake of those that continue suffering through the trauma of the acts.<br /><br />I will cut to the chase. By the end of the movie, I was hoping I hadn\\'t chosen to watch the movie. The movie was badly made, failing to delve deeper into anything about Auschwitz apart from the purely trivial, just sufficient to make sure the holocaust is refreshed in the viewers memory and to incite a barrage of tears. It showed that Kor, the subject of the documentary was unable to engage in fair discussion. Her discussion abilities were limited to parroting her stance on forgiveness (at best) to a complete unwillingness to listen or participate.<br /><br />Lastly, is everyone so retarded today that they can\\'t notice the difference between making peace and forgiving? Quoting another IMDb user, \"I don\\'t see her forgiveness as being weak- quite the contrary, she just wanted to relieve its hold from her soul, she wanted the suffering to be over, so she let it go.\" That would be the perfect layman\\'s definition of MAKING PEACE.<br /><br />I guess, in a world of propaganda, blind faith and political correctness, there is no room to question those that have \"gone through more than the human mind can fathom\".<br /><br />P.S. The dictionary certainly should go into all those Books-to-buy lists everyone keeps making.'\n",
      "Round-trip:  the documentary [UNK] around [UNK] [UNK] [UNK] a [UNK] [UNK] part of [UNK] [UNK] on [UNK] [UNK] [UNK] her version of what happened at [UNK] and a [UNK] of the [UNK] of the other [UNK] of the [UNK] [UNK] the movie obviously had great reviews its one of those [UNK] that no one [UNK] to voice a [UNK] opinion [UNK] br i too for a [UNK] part of the movie got [UNK] into the [UNK] that the [UNK] so obviously wanted the viewer to [UNK] on one of the [UNK] reviews on imdb by [UNK] [UNK] obviously having nothing [UNK] to say about the [UNK] on a [UNK] [UNK] could only find the [UNK] [UNK] in one of the many dramatic sequences as a group of [UNK] [UNK] with [UNK] at a [UNK] [UNK] the [UNK] of the word [UNK] is even [UNK] but the [UNK] and [UNK] [UNK] [UNK] her own but by this time the [UNK] [UNK] that the movie had on my [UNK] emotional [UNK] had let [UNK] enough that i could see clearly once more after the [UNK] [UNK] [UNK] [UNK] her [UNK] [UNK] the movie begins to [UNK] into what [UNK] is all about at least from the [UNK] of [UNK] the movie goes about [UNK] her past her [UNK] [UNK] [UNK] the [UNK] and into new [UNK] to me this was the [UNK] of the movie [UNK] by [UNK] [UNK] of her act of [UNK] obviously it was a very [UNK] [UNK] br on a [UNK] to [UNK] her [UNK] of [UNK] in order to [UNK] [UNK] of the past she makes her way to the [UNK] [UNK] to meet with some [UNK] to [UNK] with them the [UNK] that they face and to see if dialogue cannot lead to a better [UNK] of the situation and [UNK] [UNK] with [UNK] and [UNK] with [UNK] in the us on her act of [UNK] the [UNK] including one at a [UNK] [UNK] in [UNK] from then on anyone not so [UNK] [UNK] that they cant see the screen will find it [UNK] to miss the obvious [UNK] in her [UNK] br [UNK] you [UNK] [UNK] her body [UNK] [UNK] and [UNK] to [UNK] in a room full of [UNK] [UNK] and [UNK] her comments about how she [UNK] that they might [UNK] her shows how much of a waste of time effort and money the entire act was a rather [UNK] dr [UNK] [UNK] [UNK] of [UNK] at [UNK] [UNK] gets it just right when he tells [UNK] off for a [UNK] she makes about how she would rather be [UNK] in her [UNK] br finally the [UNK] at the [UNK] [UNK] in [UNK] where she is [UNK] on the [UNK] of [UNK] and her right to do so in the [UNK] of those that [UNK] [UNK] through the [UNK] of the [UNK] br i will cut to the [UNK] by the end of the movie i was [UNK] i [UNK] [UNK] to watch the movie the movie was badly made [UNK] to [UNK] [UNK] into anything about [UNK] apart from the [UNK] [UNK] just [UNK] to make sure the [UNK] is [UNK] in the viewers [UNK] and to [UNK] a [UNK] of [UNK] it [UNK] that [UNK] the subject of the documentary was [UNK] to [UNK] in [UNK] [UNK] her [UNK] [UNK] were [UNK] to [UNK] her [UNK] on [UNK] at best to a complete [UNK] to [UNK] or [UNK] br [UNK] is everyone so [UNK] today that they cant [UNK] the [UNK] between making [UNK] and [UNK] [UNK] another imdb [UNK] i dont see her [UNK] as being weak quite the [UNK] she just wanted to [UNK] its [UNK] from her [UNK] she wanted the [UNK] to be over so she let it go that would be the perfect [UNK] [UNK] of making [UNK] br i guess in a world of [UNK] [UNK] [UNK] and political [UNK] there is no room to question those that have gone through more than the human mind can [UNK] br [UNK] the [UNK] certainly should go into all those [UNK] [UNK] everyone keeps making                                                                                                                                                                                                                                                                                                                       \n",
      "\n",
      "Original:  b\"Why such a generic title? Santa Claus??? So bland and unpredictable. Movies before that tried to cash in on the holiday spirit, most notably 'Santa Claus Conquers the Martians', at least was entertaining to watch because of the campiness to it, and all the stock footage being used... for some reason, that seemed happy to me. But this movie just screws Christmas in the butt, and screws the joy of all the kids. Santa lives in space? His enemy is a devil named Pitch? Santa gets help from Merlin the Magician? How random is this!? Well, since it was made in Mexico then some of you might understand the way of how the film was made. I had to admit some of the effects were just wacky for the time. It was a all-out cluster of madness! Though, despite all the troubles with the movie, it still feels like a Christmas movie. Good conquers evil, and Christmas still plays a part of our hearts of every good girl or boy in the world, or possibly universe, thanks to Santa Claus Conquers the Martians.. apparently. So, I think you should give it a try, even if it is one of the worst holiday movies of all time... though it should put a smile on your face any day.\"\n",
      "Round-trip:  why such a [UNK] title [UNK] [UNK] so [UNK] and [UNK] movies before that tried to [UNK] in on the [UNK] [UNK] most [UNK] [UNK] [UNK] [UNK] the [UNK] at least was entertaining to watch because of the [UNK] to it and all the [UNK] footage being used for some reason that seemed happy to me but this movie just [UNK] christmas in the [UNK] and [UNK] the [UNK] of all the kids [UNK] lives in space his [UNK] is a [UNK] named [UNK] [UNK] gets help from [UNK] the [UNK] how [UNK] is this well since it was made in [UNK] then some of you might understand the way of how the film was made i had to admit some of the effects were just [UNK] for the time it was a [UNK] [UNK] of [UNK] though despite all the [UNK] with the movie it still feels like a christmas movie good [UNK] evil and christmas still plays a part of our [UNK] of every good girl or boy in the world or possibly [UNK] [UNK] to [UNK] [UNK] [UNK] the [UNK] apparently so i think you should give it a try even if it is one of the worst [UNK] movies of all time though it should put a [UNK] on your face any day                                                                                                                                                                                                                                                                                                                                                                                                                                                                                                                                                                                                                                                                                                                                                                                                             \n",
      "\n",
      "Original:  b'Yes, people are racist. People are even racist in college. That\\'s a good point, and the issue of racism has been dealt with many times before in countless films. What sets Higher Learning apart from the pack is that it deals with the issue of racism in the most ham-fisted and predictable way possible, oh yeah it\\'s in college too.<br /><br />This film deals with this problem of racism the way Frankenstein deals with most problems, it bashes you over the head repeatedly in a brutal and sluggish manner. Most of the characters are cartoonish, one-dimensional, caricatures (lesbian feminist, angry black man), that react to situations as dramatically and predictably as possible. Instead of defying stereotypes this film is overpopulated with them. The angry black men feel cheated, feminists hate men, etc. (one feminist even holds a sign that reads \"Dead Men Don\\'t Rape.\" See what I mean?) I don\\'t want to give anything away, but in this movie if someone seems like a shifty loner or a date rapist they\\'ll probably behave exactly how you expect them to. The changes the characters go through seems obvious to everyone but the people in the movie. The big twist in the plot hinges on whether or not the violent neo-Nazis will act like violent neo-Nazis. I\\'ll guess you\\'ll just have to watch to find out what happens.<br /><br />Another problem I have with this movie is that it\\'s supposed to be \"gritty\" and \"hard-hitting,\" but they make Nazis the bad guys. I agree Nazis are evil, but that\\'s my point. Everybody thinks Nazis are bad; we\\'re not breaking any new ground here. Nazis have been portrayed as villains since the 1930\\'s. The film doesn\\'t challenge any viewpoints or make bold statements. It just deals with issues we all know about in a clumsy, after-school-special like, manner. Being anti-rape, anti-racist, and anti-Nazi isn\\'t exactly taking a hard stance on a controversial issue.<br /><br />Higher Learning is predictable, cartoonish, and in a word stupid. Avoid at all costs.'\n",
      "Round-trip:  yes people are [UNK] people are even [UNK] in [UNK] thats a good point and the [UNK] of [UNK] has been [UNK] with many times before in [UNK] films what sets [UNK] [UNK] apart from the [UNK] is that it [UNK] with the [UNK] of [UNK] in the most [UNK] and predictable way possible oh [UNK] its in [UNK] [UNK] br this film [UNK] with this problem of [UNK] the way [UNK] [UNK] with most problems it [UNK] you over the head [UNK] in a [UNK] and [UNK] [UNK] most of the characters are [UNK] [UNK] [UNK] [UNK] [UNK] [UNK] black man that [UNK] to [UNK] as [UNK] and [UNK] as possible instead of [UNK] [UNK] this film is [UNK] with them the [UNK] black men feel [UNK] [UNK] hate men etc one [UNK] even [UNK] a [UNK] that [UNK] dead men dont [UNK] see what i mean i dont want to give anything away but in this movie if someone seems like a [UNK] [UNK] or a [UNK] [UNK] [UNK] probably [UNK] exactly how you expect them to the [UNK] the characters go through seems obvious to everyone but the people in the movie the big twist in the plot [UNK] on whether or not the [UNK] [UNK] will act like [UNK] [UNK] ill guess youll just have to watch to find out what [UNK] br another problem i have with this movie is that its supposed to be [UNK] and [UNK] but they make [UNK] the bad guys i [UNK] [UNK] are evil but thats my point [UNK] [UNK] [UNK] are bad were not [UNK] any new [UNK] here [UNK] have been portrayed as [UNK] since the [UNK] the film doesnt [UNK] any [UNK] or make [UNK] [UNK] it just [UNK] with [UNK] we all know about in a [UNK] [UNK] like [UNK] being [UNK] [UNK] and [UNK] isnt exactly taking a hard [UNK] on a [UNK] [UNK] br [UNK] [UNK] is predictable [UNK] and in a word stupid avoid at all [UNK]                                                                                                                                                                                                                                                                                                                                                                                                                                                                                                                                                                                                                                                                                       \n",
      "\n"
     ]
    }
   ],
   "source": [
    "for n in range(3):\n",
    "    print(\"Original: \", example[n].numpy())\n",
    "    print(\"Round-trip: \", \" \".join(vocab[encoded_example[n]]))\n",
    "    print()"
   ]
  },
  {
   "cell_type": "markdown",
   "metadata": {
    "id": "bjUqGVBxGw-t"
   },
   "source": [
    "## Create the model"
   ]
  },
  {
   "cell_type": "markdown",
   "metadata": {
    "id": "W7zsmInBOCPO"
   },
   "source": [
    "![A drawing of the information flow in the model](images/bidirectional.png)"
   ]
  },
  {
   "cell_type": "markdown",
   "metadata": {
    "id": "bgs6nnSTGw-t"
   },
   "source": [
    "Above is a diagram of the model. \n",
    "\n",
    "1. This model can be build as a `tf.keras.Sequential`.\n",
    "\n",
    "2. The first layer is the `encoder`, which converts the text to a sequence of token indices.\n",
    "\n",
    "3. After the encoder is an embedding layer. An embedding layer stores one vector per word. When called, it converts the sequences of word indices to sequences of vectors. These vectors are trainable. After training (on enough data), words with similar meanings often have similar vectors.\n",
    "\n",
    "  This index-lookup is much more efficient than the equivalent operation of passing a one-hot encoded vector through a `tf.keras.layers.Dense` layer.\n",
    "\n",
    "4. A recurrent neural network (RNN) processes sequence input by iterating through the elements. RNNs pass the outputs from one timestep to their input on the next timestep.\n",
    "\n",
    "  The `tf.keras.layers.Bidirectional` wrapper can also be used with an RNN layer. This propagates the input forward and backwards through the RNN layer and then concatenates the final output. \n",
    "\n",
    "  * The main advantage of a bidirectional RNN is that the signal from the beginning of the input doesn't need to be processed all the way through every timestep to affect the output.  \n",
    "\n",
    "  * The main disadvantage of a bidirectional RNN is that you can't efficiently stream predictions as words are being added to the end.\n",
    "\n",
    "5. After the RNN has converted the sequence to a single vector the two `layers.Dense` do some final processing, and convert from this vector representation to a single logit as the classification output. \n"
   ]
  },
  {
   "cell_type": "markdown",
   "metadata": {
    "id": "V4fodCI7soQi"
   },
   "source": [
    "The code to implement this is below:"
   ]
  },
  {
   "cell_type": "code",
   "execution_count": 18,
   "metadata": {
    "id": "LwfoBkmRYcP3",
    "tags": []
   },
   "outputs": [],
   "source": [
    "model = tf.keras.Sequential([\n",
    "    encoder,\n",
    "    tf.keras.layers.Embedding(\n",
    "        input_dim=len(encoder.get_vocabulary()),\n",
    "        output_dim=64,\n",
    "        # Use masking to handle the variable sequence lengths\n",
    "        mask_zero=True),\n",
    "    tf.keras.layers.Bidirectional(tf.keras.layers.LSTM(64)),\n",
    "    tf.keras.layers.Dense(64, activation='relu'),\n",
    "    tf.keras.layers.Dense(1)\n",
    "])"
   ]
  },
  {
   "cell_type": "markdown",
   "metadata": {
    "id": "QIGmIGkkouUb"
   },
   "source": [
    "Please note that Keras sequential model is used here since all the layers in the model only have single input and produce single output. In case you want to use stateful RNN layer, you might want to build your model with Keras functional API or model subclassing so that you can retrieve and reuse the RNN layer states. Please check [Keras RNN guide](https://www.tensorflow.org/guide/keras/rnn#rnn_state_reuse) for more details."
   ]
  },
  {
   "cell_type": "markdown",
   "metadata": {
    "id": "kF-PsCk1LwjY"
   },
   "source": [
    "The embedding layer [uses masking](https://www.tensorflow.org/guide/keras/masking_and_padding) to handle the varying sequence-lengths. All the layers after the `Embedding` support masking:"
   ]
  },
  {
   "cell_type": "code",
   "execution_count": 19,
   "metadata": {
    "id": "87a8-CwfKebw",
    "tags": []
   },
   "outputs": [
    {
     "name": "stdout",
     "output_type": "stream",
     "text": [
      "[False, True, True, True, True]\n"
     ]
    }
   ],
   "source": [
    "print([layer.supports_masking for layer in model.layers])"
   ]
  },
  {
   "cell_type": "markdown",
   "metadata": {
    "id": "ZlS0iaUIWLpI"
   },
   "source": [
    "To confirm that this works as expected, evaluate a sentence twice. First, alone so there's no padding to mask:"
   ]
  },
  {
   "cell_type": "code",
   "execution_count": 20,
   "metadata": {
    "id": "O41gw3KfWHus",
    "tags": []
   },
   "outputs": [
    {
     "name": "stderr",
     "output_type": "stream",
     "text": [
      "2023-01-13 13:08:21.709753: I tensorflow/compiler/xla/stream_executor/cuda/cuda_dnn.cc:428] Loaded cuDNN version 8100\n"
     ]
    },
    {
     "name": "stdout",
     "output_type": "stream",
     "text": [
      "1/1 [==============================] - 2s 2s/step\n",
      "[0.00074029]\n"
     ]
    }
   ],
   "source": [
    "# predict on a sample text without padding.\n",
    "\n",
    "sample_text = ('The movie was cool. The animation and the graphics '\n",
    "               'were out of this world. I would recommend this movie.')\n",
    "\n",
    "predictions = model.predict(np.array([sample_text]))\n",
    "\n",
    "print(predictions[0])"
   ]
  },
  {
   "cell_type": "markdown",
   "metadata": {
    "id": "K0VQmGnEWcuz"
   },
   "source": [
    "Now, evaluate it again in a batch with a longer sentence. The result should be identical:"
   ]
  },
  {
   "cell_type": "code",
   "execution_count": 21,
   "metadata": {
    "id": "UIgpuTeFNDzq",
    "tags": []
   },
   "outputs": [
    {
     "name": "stdout",
     "output_type": "stream",
     "text": [
      "1/1 [==============================] - 0s 78ms/step\n",
      "[0.00074029]\n"
     ]
    }
   ],
   "source": [
    "# predict on a sample text with padding\n",
    "\n",
    "padding = \"the \" * 2000\n",
    "predictions = model.predict(np.array([sample_text, padding]))\n",
    "print(predictions[0])"
   ]
  },
  {
   "cell_type": "markdown",
   "metadata": {
    "id": "sRI776ZcH3Tf"
   },
   "source": [
    "Compile the Keras model to configure the training process:"
   ]
  },
  {
   "cell_type": "code",
   "execution_count": 22,
   "metadata": {
    "id": "kj2xei41YZjC",
    "tags": []
   },
   "outputs": [],
   "source": [
    "model.compile(loss=tf.keras.losses.BinaryCrossentropy(from_logits=True),\n",
    "              optimizer=tf.keras.optimizers.Adam(1e-4),\n",
    "              metrics=['accuracy'])"
   ]
  },
  {
   "cell_type": "markdown",
   "metadata": {
    "id": "zIwH3nto596k"
   },
   "source": [
    "## Train the model"
   ]
  },
  {
   "cell_type": "code",
   "execution_count": 23,
   "metadata": {
    "id": "hw86wWS4YgR2",
    "tags": []
   },
   "outputs": [
    {
     "name": "stdout",
     "output_type": "stream",
     "text": [
      "Epoch 1/10\n"
     ]
    },
    {
     "name": "stderr",
     "output_type": "stream",
     "text": [
      "2023-01-13 13:08:26.424963: W tensorflow/core/common_runtime/type_inference.cc:339] Type inference failed. This indicates an invalid graph that escaped type checking. Error message: INVALID_ARGUMENT: expected compatible input types, but input 1:\n",
      "type_id: TFT_OPTIONAL\n",
      "args {\n",
      "  type_id: TFT_PRODUCT\n",
      "  args {\n",
      "    type_id: TFT_TENSOR\n",
      "    args {\n",
      "      type_id: TFT_INT32\n",
      "    }\n",
      "  }\n",
      "}\n",
      " is neither a subtype nor a supertype of the combined inputs preceding it:\n",
      "type_id: TFT_OPTIONAL\n",
      "args {\n",
      "  type_id: TFT_PRODUCT\n",
      "  args {\n",
      "    type_id: TFT_TENSOR\n",
      "    args {\n",
      "      type_id: TFT_FLOAT\n",
      "    }\n",
      "  }\n",
      "}\n",
      "\n",
      "\twhile inferring type of node 'cond_40/output/_23'\n",
      "2023-01-13 13:08:26.757950: I tensorflow/compiler/xla/service/service.cc:173] XLA service 0x7f103ca9d280 initialized for platform CUDA (this does not guarantee that XLA will be used). Devices:\n",
      "2023-01-13 13:08:26.757977: I tensorflow/compiler/xla/service/service.cc:181]   StreamExecutor device (0): NVIDIA GeForce RTX 2070 SUPER, Compute Capability 7.5\n",
      "2023-01-13 13:08:26.761235: I tensorflow/compiler/mlir/tensorflow/utils/dump_mlir_util.cc:268] disabling MLIR crash reproducer, set env var `MLIR_CRASH_REPRODUCER_DIRECTORY` to enable.\n",
      "2023-01-13 13:08:26.851684: I tensorflow/compiler/jit/xla_compilation_cache.cc:477] Compiled cluster using XLA!  This line is logged at most once for the lifetime of the process.\n"
     ]
    },
    {
     "name": "stdout",
     "output_type": "stream",
     "text": [
      "391/391 [==============================] - 34s 73ms/step - loss: 0.6496 - accuracy: 0.5637 - val_loss: 0.5195 - val_accuracy: 0.7797\n",
      "Epoch 2/10\n",
      "  3/391 [..............................] - ETA: 16s - loss: 0.5257 - accuracy: 0.7552"
     ]
    },
    {
     "name": "stderr",
     "output_type": "stream",
     "text": [
      "2023-01-13 13:08:56.057270: W tensorflow/core/kernels/data/cache_dataset_ops.cc:856] The calling iterator did not fully read the dataset being cached. In order to avoid unexpected truncation of the dataset, the partially cached contents of the dataset  will be discarded. This can happen if you have an input pipeline similar to `dataset.cache().take(k).repeat()`. You should use `dataset.take(k).cache().repeat()` instead.\n"
     ]
    },
    {
     "name": "stdout",
     "output_type": "stream",
     "text": [
      "391/391 [==============================] - 21s 53ms/step - loss: 0.4222 - accuracy: 0.8117 - val_loss: 0.3783 - val_accuracy: 0.8427\n",
      "Epoch 3/10\n",
      "  3/391 [..............................] - ETA: 14s - loss: 0.3356 - accuracy: 0.8750"
     ]
    },
    {
     "name": "stderr",
     "output_type": "stream",
     "text": [
      "2023-01-13 13:09:16.986107: W tensorflow/core/kernels/data/cache_dataset_ops.cc:856] The calling iterator did not fully read the dataset being cached. In order to avoid unexpected truncation of the dataset, the partially cached contents of the dataset  will be discarded. This can happen if you have an input pipeline similar to `dataset.cache().take(k).repeat()`. You should use `dataset.take(k).cache().repeat()` instead.\n"
     ]
    },
    {
     "name": "stdout",
     "output_type": "stream",
     "text": [
      "391/391 [==============================] - 20s 52ms/step - loss: 0.3496 - accuracy: 0.8490 - val_loss: 0.3445 - val_accuracy: 0.8448\n",
      "Epoch 4/10\n",
      "  3/391 [..............................] - ETA: 20s - loss: 0.3236 - accuracy: 0.8750"
     ]
    },
    {
     "name": "stderr",
     "output_type": "stream",
     "text": [
      "2023-01-13 13:09:37.247241: W tensorflow/core/kernels/data/cache_dataset_ops.cc:856] The calling iterator did not fully read the dataset being cached. In order to avoid unexpected truncation of the dataset, the partially cached contents of the dataset  will be discarded. This can happen if you have an input pipeline similar to `dataset.cache().take(k).repeat()`. You should use `dataset.take(k).cache().repeat()` instead.\n"
     ]
    },
    {
     "name": "stdout",
     "output_type": "stream",
     "text": [
      "391/391 [==============================] - 20s 51ms/step - loss: 0.3245 - accuracy: 0.8594 - val_loss: 0.3288 - val_accuracy: 0.8583\n",
      "Epoch 5/10\n",
      "  3/391 [..............................] - ETA: 18s - loss: 0.3853 - accuracy: 0.8125"
     ]
    },
    {
     "name": "stderr",
     "output_type": "stream",
     "text": [
      "2023-01-13 13:09:57.053335: W tensorflow/core/kernels/data/cache_dataset_ops.cc:856] The calling iterator did not fully read the dataset being cached. In order to avoid unexpected truncation of the dataset, the partially cached contents of the dataset  will be discarded. This can happen if you have an input pipeline similar to `dataset.cache().take(k).repeat()`. You should use `dataset.take(k).cache().repeat()` instead.\n"
     ]
    },
    {
     "name": "stdout",
     "output_type": "stream",
     "text": [
      "391/391 [==============================] - 20s 51ms/step - loss: 0.3115 - accuracy: 0.8672 - val_loss: 0.3312 - val_accuracy: 0.8500\n",
      "Epoch 6/10\n",
      "  3/391 [..............................] - ETA: 18s - loss: 0.3340 - accuracy: 0.8594"
     ]
    },
    {
     "name": "stderr",
     "output_type": "stream",
     "text": [
      "2023-01-13 13:10:17.096972: W tensorflow/core/kernels/data/cache_dataset_ops.cc:856] The calling iterator did not fully read the dataset being cached. In order to avoid unexpected truncation of the dataset, the partially cached contents of the dataset  will be discarded. This can happen if you have an input pipeline similar to `dataset.cache().take(k).repeat()`. You should use `dataset.take(k).cache().repeat()` instead.\n"
     ]
    },
    {
     "name": "stdout",
     "output_type": "stream",
     "text": [
      "391/391 [==============================] - 20s 51ms/step - loss: 0.3067 - accuracy: 0.8680 - val_loss: 0.3272 - val_accuracy: 0.8630\n",
      "Epoch 7/10\n",
      "  1/391 [..............................] - ETA: 36s - loss: 0.2427 - accuracy: 0.9219"
     ]
    },
    {
     "name": "stderr",
     "output_type": "stream",
     "text": [
      "2023-01-13 13:10:37.001833: W tensorflow/core/kernels/data/cache_dataset_ops.cc:856] The calling iterator did not fully read the dataset being cached. In order to avoid unexpected truncation of the dataset, the partially cached contents of the dataset  will be discarded. This can happen if you have an input pipeline similar to `dataset.cache().take(k).repeat()`. You should use `dataset.take(k).cache().repeat()` instead.\n"
     ]
    },
    {
     "name": "stdout",
     "output_type": "stream",
     "text": [
      "391/391 [==============================] - 20s 50ms/step - loss: 0.3030 - accuracy: 0.8712 - val_loss: 0.3208 - val_accuracy: 0.8594\n",
      "Epoch 8/10\n",
      "  3/391 [..............................] - ETA: 15s - loss: 0.3141 - accuracy: 0.8646"
     ]
    },
    {
     "name": "stderr",
     "output_type": "stream",
     "text": [
      "2023-01-13 13:10:56.699077: W tensorflow/core/kernels/data/cache_dataset_ops.cc:856] The calling iterator did not fully read the dataset being cached. In order to avoid unexpected truncation of the dataset, the partially cached contents of the dataset  will be discarded. This can happen if you have an input pipeline similar to `dataset.cache().take(k).repeat()`. You should use `dataset.take(k).cache().repeat()` instead.\n"
     ]
    },
    {
     "name": "stdout",
     "output_type": "stream",
     "text": [
      "391/391 [==============================] - 20s 51ms/step - loss: 0.2985 - accuracy: 0.8734 - val_loss: 0.3195 - val_accuracy: 0.8615\n",
      "Epoch 9/10\n",
      "  3/391 [..............................] - ETA: 19s - loss: 0.3350 - accuracy: 0.8698"
     ]
    },
    {
     "name": "stderr",
     "output_type": "stream",
     "text": [
      "2023-01-13 13:11:16.573362: W tensorflow/core/kernels/data/cache_dataset_ops.cc:856] The calling iterator did not fully read the dataset being cached. In order to avoid unexpected truncation of the dataset, the partially cached contents of the dataset  will be discarded. This can happen if you have an input pipeline similar to `dataset.cache().take(k).repeat()`. You should use `dataset.take(k).cache().repeat()` instead.\n"
     ]
    },
    {
     "name": "stdout",
     "output_type": "stream",
     "text": [
      "391/391 [==============================] - 20s 51ms/step - loss: 0.2974 - accuracy: 0.8743 - val_loss: 0.3312 - val_accuracy: 0.8615\n",
      "Epoch 10/10\n",
      "  3/391 [..............................] - ETA: 19s - loss: 0.3357 - accuracy: 0.8594"
     ]
    },
    {
     "name": "stderr",
     "output_type": "stream",
     "text": [
      "2023-01-13 13:11:36.514912: W tensorflow/core/kernels/data/cache_dataset_ops.cc:856] The calling iterator did not fully read the dataset being cached. In order to avoid unexpected truncation of the dataset, the partially cached contents of the dataset  will be discarded. This can happen if you have an input pipeline similar to `dataset.cache().take(k).repeat()`. You should use `dataset.take(k).cache().repeat()` instead.\n"
     ]
    },
    {
     "name": "stdout",
     "output_type": "stream",
     "text": [
      "391/391 [==============================] - 20s 51ms/step - loss: 0.2958 - accuracy: 0.8769 - val_loss: 0.3223 - val_accuracy: 0.8583\n",
      "CPU times: user 3min 42s, sys: 9.16 s, total: 3min 51s\n",
      "Wall time: 3min 34s\n"
     ]
    },
    {
     "name": "stderr",
     "output_type": "stream",
     "text": [
      "2023-01-13 13:11:56.412807: W tensorflow/core/kernels/data/cache_dataset_ops.cc:856] The calling iterator did not fully read the dataset being cached. In order to avoid unexpected truncation of the dataset, the partially cached contents of the dataset  will be discarded. This can happen if you have an input pipeline similar to `dataset.cache().take(k).repeat()`. You should use `dataset.take(k).cache().repeat()` instead.\n"
     ]
    }
   ],
   "source": [
    "%%time\n",
    "history = model.fit(train_dataset, epochs=10,\n",
    "                    validation_data=test_dataset,\n",
    "                    validation_steps=30)"
   ]
  },
  {
   "cell_type": "code",
   "execution_count": 24,
   "metadata": {
    "id": "BaNbXi43YgUT"
   },
   "outputs": [
    {
     "name": "stdout",
     "output_type": "stream",
     "text": [
      "391/391 [==============================] - 11s 27ms/step - loss: 0.3176 - accuracy: 0.8546\n",
      "Test Loss: 0.31755128502845764\n",
      "Test Accuracy: 0.854640007019043\n"
     ]
    }
   ],
   "source": [
    "test_loss, test_acc = model.evaluate(test_dataset)\n",
    "\n",
    "print('Test Loss:', test_loss)\n",
    "print('Test Accuracy:', test_acc)"
   ]
  },
  {
   "cell_type": "code",
   "execution_count": 25,
   "metadata": {
    "id": "OZmwt_mzaQJk"
   },
   "outputs": [
    {
     "data": {
      "text/plain": [
       "(0.0, 0.6673210769891739)"
      ]
     },
     "execution_count": 25,
     "metadata": {},
     "output_type": "execute_result"
    },
    {
     "data": {
      "image/png": "[encoded data removed]",
      "text/plain": [
       "<Figure size 1600x800 with 2 Axes>"
      ]
     },
     "metadata": {},
     "output_type": "display_data"
    }
   ],
   "source": [
    "plt.figure(figsize=(16, 8))\n",
    "plt.subplot(1, 2, 1)\n",
    "plot_graphs(history, 'accuracy')\n",
    "plt.ylim(None, 1)\n",
    "plt.subplot(1, 2, 2)\n",
    "plot_graphs(history, 'loss')\n",
    "plt.ylim(0, None)"
   ]
  },
  {
   "cell_type": "markdown",
   "metadata": {
    "id": "DwSE_386uhxD"
   },
   "source": [
    "Run a prediction on a new sentence:\n",
    "\n",
    "If the prediction is >= 0.0, it is positive else it is negative."
   ]
  },
  {
   "cell_type": "code",
   "execution_count": 26,
   "metadata": {
    "id": "ZXgfQSgRW6zU"
   },
   "outputs": [
    {
     "name": "stdout",
     "output_type": "stream",
     "text": [
      "1/1 [==============================] - 2s 2s/step\n"
     ]
    }
   ],
   "source": [
    "sample_text = ('The movie was cool. The animation and the graphics '\n",
    "               'were out of this world. I would recommend this movie.')\n",
    "predictions = model.predict(np.array([sample_text]))"
   ]
  },
  {
   "cell_type": "markdown",
   "metadata": {
    "id": "7g1evcaRpTKm"
   },
   "source": [
    "## Stack two or more LSTM layers\n",
    "\n",
    "Keras recurrent layers have two available modes that are controlled by the `return_sequences` constructor argument:\n",
    "\n",
    "* If `False` it returns only the last output for each input sequence (a 2D tensor of shape (batch_size, output_features)). This is the default, used in the previous model.\n",
    "\n",
    "* If `True` the full sequences of successive outputs for each timestep is returned (a 3D tensor of shape `(batch_size, timesteps, output_features)`).\n",
    "\n",
    "Here is what the flow of information looks like with `return_sequences=True`:\n",
    "\n",
    "![layered_bidirectional](images/layered_bidirectional.png)"
   ]
  },
  {
   "cell_type": "markdown",
   "metadata": {
    "id": "wbSClCrG1z8l"
   },
   "source": [
    "The interesting thing about using an `RNN` with `return_sequences=True` is that the output still has 3-axes, like the input, so it can be passed to another RNN layer, like this:"
   ]
  },
  {
   "cell_type": "code",
   "execution_count": 27,
   "metadata": {
    "id": "jo1jjO3vn0jo"
   },
   "outputs": [],
   "source": [
    "model = tf.keras.Sequential([\n",
    "    encoder,\n",
    "    tf.keras.layers.Embedding(len(encoder.get_vocabulary()), 64, mask_zero=True),\n",
    "    tf.keras.layers.Bidirectional(tf.keras.layers.LSTM(64,  return_sequences=True)),\n",
    "    tf.keras.layers.Bidirectional(tf.keras.layers.LSTM(32)),\n",
    "    tf.keras.layers.Dense(64, activation='relu'),\n",
    "    tf.keras.layers.Dropout(0.5),\n",
    "    tf.keras.layers.Dense(1)\n",
    "])"
   ]
  },
  {
   "cell_type": "code",
   "execution_count": 28,
   "metadata": {
    "id": "hEPV5jVGp-is"
   },
   "outputs": [],
   "source": [
    "model.compile(loss=tf.keras.losses.BinaryCrossentropy(from_logits=True),\n",
    "              optimizer=tf.keras.optimizers.Adam(1e-4),\n",
    "              metrics=['accuracy'])"
   ]
  },
  {
   "cell_type": "code",
   "execution_count": 29,
   "metadata": {
    "id": "LeSE-YjdqAeN"
   },
   "outputs": [
    {
     "name": "stdout",
     "output_type": "stream",
     "text": [
      "Epoch 1/10\n",
      "391/391 [==============================] - 50s 104ms/step - loss: 0.6730 - accuracy: 0.5248 - val_loss: 0.6359 - val_accuracy: 0.6474\n",
      "Epoch 2/10\n",
      "391/391 [==============================] - 36s 93ms/step - loss: 0.5133 - accuracy: 0.7472 - val_loss: 0.4284 - val_accuracy: 0.7964\n",
      "Epoch 3/10\n",
      "391/391 [==============================] - 35s 89ms/step - loss: 0.3945 - accuracy: 0.8274 - val_loss: 0.3732 - val_accuracy: 0.8219\n",
      "Epoch 4/10\n",
      "391/391 [==============================] - 33s 84ms/step - loss: 0.3565 - accuracy: 0.8452 - val_loss: 0.3495 - val_accuracy: 0.8469\n",
      "Epoch 5/10\n",
      "391/391 [==============================] - 32s 81ms/step - loss: 0.3391 - accuracy: 0.8537 - val_loss: 0.3353 - val_accuracy: 0.8516\n",
      "Epoch 6/10\n",
      "391/391 [==============================] - 32s 81ms/step - loss: 0.3265 - accuracy: 0.8610 - val_loss: 0.3272 - val_accuracy: 0.8552\n",
      "Epoch 7/10\n",
      "391/391 [==============================] - 33s 84ms/step - loss: 0.3209 - accuracy: 0.8636 - val_loss: 0.3407 - val_accuracy: 0.8432\n",
      "Epoch 8/10\n",
      "391/391 [==============================] - 31s 80ms/step - loss: 0.3179 - accuracy: 0.8654 - val_loss: 0.3288 - val_accuracy: 0.8484\n",
      "Epoch 9/10\n",
      "391/391 [==============================] - 36s 92ms/step - loss: 0.3139 - accuracy: 0.8684 - val_loss: 0.3235 - val_accuracy: 0.8490\n",
      "Epoch 10/10\n",
      "391/391 [==============================] - 32s 82ms/step - loss: 0.3123 - accuracy: 0.8670 - val_loss: 0.3236 - val_accuracy: 0.8615\n",
      "CPU times: user 6min 3s, sys: 12.3 s, total: 6min 15s\n",
      "Wall time: 5min 49s\n"
     ]
    }
   ],
   "source": [
    "%%time\n",
    "history = model.fit(train_dataset, epochs=10,\n",
    "                    validation_data=test_dataset,\n",
    "                    validation_steps=30)"
   ]
  },
  {
   "cell_type": "code",
   "execution_count": 30,
   "metadata": {
    "id": "_LdwilM1qPM3"
   },
   "outputs": [
    {
     "name": "stdout",
     "output_type": "stream",
     "text": [
      "391/391 [==============================] - 16s 40ms/step - loss: 0.3259 - accuracy: 0.8603\n",
      "Test Loss: 0.32594624161720276\n",
      "Test Accuracy: 0.860319972038269\n"
     ]
    }
   ],
   "source": [
    "test_loss, test_acc = model.evaluate(test_dataset)\n",
    "\n",
    "print('Test Loss:', test_loss)\n",
    "print('Test Accuracy:', test_acc)"
   ]
  },
  {
   "cell_type": "code",
   "execution_count": 31,
   "metadata": {
    "id": "ykUKnAoqbycW"
   },
   "outputs": [
    {
     "name": "stdout",
     "output_type": "stream",
     "text": [
      "1/1 [==============================] - 3s 3s/step\n",
      "[[-2.0123518]]\n"
     ]
    }
   ],
   "source": [
    "# predict on a sample text without padding.\n",
    "\n",
    "sample_text = ('The movie was not good. The animation and the graphics '\n",
    "               'were terrible. I would not recommend this movie.')\n",
    "predictions = model.predict(np.array([sample_text]))\n",
    "print(predictions)"
   ]
  },
  {
   "cell_type": "code",
   "execution_count": 32,
   "metadata": {
    "id": "_YYub0EDtwCu"
   },
   "outputs": [
    {
     "data": {
      "image/png": "[encoded data removed]",
      "text/plain": [
       "<Figure size 1600x600 with 2 Axes>"
      ]
     },
     "metadata": {},
     "output_type": "display_data"
    }
   ],
   "source": [
    "plt.figure(figsize=(16, 6))\n",
    "plt.subplot(1, 2, 1)\n",
    "plot_graphs(history, 'accuracy')\n",
    "plt.subplot(1, 2, 2)\n",
    "plot_graphs(history, 'loss')"
   ]
  },
  {
   "cell_type": "markdown",
   "metadata": {
    "id": "9xvpE3BaGw_V"
   },
   "source": [
    "Check out other existing recurrent layers such as [GRU layers](https://www.tensorflow.org/api_docs/python/tf/keras/layers/GRU).\n",
    "\n",
    "If you're interested in building custom RNNs, see the [Keras RNN Guide](https://www.tensorflow.org/guide/keras/rnn).\n"
   ]
  },
  {
   "cell_type": "code",
   "execution_count": 33,
   "metadata": {},
   "outputs": [
    {
     "name": "stdout",
     "output_type": "stream",
     "text": [
      "# Run Date: Friday, January 13, 2023\n",
      "# Run Time: 00:10:06\n"
     ]
    }
   ],
   "source": [
    "endTime = time.time()\n",
    "\n",
    "elapsedTime = time.strftime(\"%H:%M:%S\", time.gmtime(endTime - startTime))\n",
    "\n",
    "print(todaysDate.strftime('# Run Date: %A, %B %d, %Y'))\n",
    "print(f\"# Run Time: {elapsedTime}\")"
   ]
  }
 ],
 "metadata": {
  "accelerator": "GPU",
  "colab": {
   "collapsed_sections": [],
   "name": "text_classification_rnn.ipynb",
   "provenance": [],
   "toc_visible": true
  },
  "kernelspec": {
   "display_name": "Python 3 (ipykernel)",
   "language": "python",
   "name": "python3"
  },
  "language_info": {
   "codemirror_mode": {
    "name": "ipython",
    "version": 3
   },
   "file_extension": ".py",
   "mimetype": "text/x-python",
   "name": "python",
   "nbconvert_exporter": "python",
   "pygments_lexer": "ipython3",
   "version": "3.10.8"
  }
 },
 "nbformat": 4,
 "nbformat_minor": 4
}
